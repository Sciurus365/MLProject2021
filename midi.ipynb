{
 "cells": [
  {
   "cell_type": "code",
   "execution_count": 13,
   "id": "8d524165-8c96-42c1-afb5-b8566a898291",
   "metadata": {},
   "outputs": [],
   "source": [
    "from midiutil import MIDIFile\n",
    "import pandas as pd\n",
    "df = pd.read_csv(\"F.txt\", sep=\"\\t\", header=None)"
   ]
  },
  {
   "cell_type": "code",
   "execution_count": 14,
   "id": "889a57a4-6117-4d67-a9dd-715640995ef8",
   "metadata": {},
   "outputs": [],
   "source": [
    "mymidi = MIDIFile(numTracks=4)\n",
    "mymidi.addTempo(track = 0, time = 0, tempo = 60)\n",
    "mymidi.addTempo(track = 1, time = 0, tempo = 60)\n",
    "mymidi.addTempo(track = 2, time = 0, tempo = 60)\n",
    "mymidi.addTempo(track = 3, time = 0, tempo = 60)"
   ]
  },
  {
   "cell_type": "code",
   "execution_count": 15,
   "id": "9e321efc-94d1-4ab0-a757-f324ae81a29c",
   "metadata": {},
   "outputs": [],
   "source": [
    "duration=[0,0,0,0]\n",
    "for i in range(len(df)):\n",
    "    for j in range(4):\n",
    "        current_note = df.iloc[i,j]\n",
    "        if(current_note == 0):\n",
    "            continue\n",
    "        if(i<len(df)-1):\n",
    "            if(current_note == df.iloc[i+1,j]):\n",
    "                duration[j] = duration[j] +1\n",
    "                continue\n",
    "        mymidi.addNote(track = j, channel = 0, pitch = current_note, time = 0.1*(i-duration[j]), \n",
    "                       duration = 0.1*(duration[j]+1), volume = 100)\n",
    "        duration[j]=0"
   ]
  },
  {
   "cell_type": "code",
   "execution_count": 16,
   "id": "c82798f6-edd9-4a71-aa4c-122449977037",
   "metadata": {},
   "outputs": [],
   "source": [
    "with open(\"F.mid\", \"wb\") as output_file:\n",
    "    mymidi.writeFile(output_file)"
   ]
  }
 ],
 "metadata": {
  "kernelspec": {
   "display_name": "ml",
   "language": "python",
   "name": "ml"
  },
  "language_info": {
   "codemirror_mode": {
    "name": "ipython",
    "version": 3
   },
   "file_extension": ".py",
   "mimetype": "text/x-python",
   "name": "python",
   "nbconvert_exporter": "python",
   "pygments_lexer": "ipython3",
   "version": "3.9.7"
  }
 },
 "nbformat": 4,
 "nbformat_minor": 5
}
