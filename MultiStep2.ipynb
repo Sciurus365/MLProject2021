{
 "cells": [
  {
   "cell_type": "markdown",
   "id": "1ad986be-a6d6-41a3-96d2-76cdd7a6ca0b",
   "metadata": {},
   "source": [
    "# Preprocessing"
   ]
  },
  {
   "cell_type": "code",
   "execution_count": 18,
   "id": "cb591e23-6f0d-4498-96cd-8c51ac207af1",
   "metadata": {},
   "outputs": [],
   "source": [
    "import matplotlib\n",
    "import matplotlib.pyplot as plt\n",
    "import numpy as np\n",
    "import pandas as pd\n",
    "import sklearn\n",
    "import re\n",
    "from sklearn.linear_model import RidgeClassifier, RidgeClassifierCV, Ridge, RidgeCV\n",
    "from sklearn.metrics import confusion_matrix, plot_confusion_matrix\n",
    "from sklearn.model_selection import TimeSeriesSplit\n",
    "from sklearn.preprocessing import OneHotEncoder\n",
    "from sklearn.pipeline import make_pipeline\n",
    "from sklearn.compose import make_column_transformer, TransformedTargetRegressor"
   ]
  },
  {
   "cell_type": "code",
   "execution_count": 6,
   "id": "ccf5de80-b355-4862-b811-23719b7355c0",
   "metadata": {},
   "outputs": [
    {
     "data": {
      "text/html": [
       "<div>\n",
       "<style scoped>\n",
       "    .dataframe tbody tr th:only-of-type {\n",
       "        vertical-align: middle;\n",
       "    }\n",
       "\n",
       "    .dataframe tbody tr th {\n",
       "        vertical-align: top;\n",
       "    }\n",
       "\n",
       "    .dataframe thead th {\n",
       "        text-align: right;\n",
       "    }\n",
       "</style>\n",
       "<table border=\"1\" class=\"dataframe\">\n",
       "  <thead>\n",
       "    <tr style=\"text-align: right;\">\n",
       "      <th></th>\n",
       "      <th>note</th>\n",
       "      <th>octave</th>\n",
       "      <th>rest</th>\n",
       "      <th>duration</th>\n",
       "      <th>note_lag1</th>\n",
       "      <th>octave_lag1</th>\n",
       "      <th>rest_lag1</th>\n",
       "      <th>duration_lag1</th>\n",
       "      <th>note_lag2</th>\n",
       "      <th>octave_lag2</th>\n",
       "      <th>...</th>\n",
       "      <th>rest_lag6</th>\n",
       "      <th>duration_lag6</th>\n",
       "      <th>note_lag7</th>\n",
       "      <th>octave_lag7</th>\n",
       "      <th>rest_lag7</th>\n",
       "      <th>duration_lag7</th>\n",
       "      <th>note_lag8</th>\n",
       "      <th>octave_lag8</th>\n",
       "      <th>rest_lag8</th>\n",
       "      <th>duration_lag8</th>\n",
       "    </tr>\n",
       "  </thead>\n",
       "  <tbody>\n",
       "    <tr>\n",
       "      <th>8</th>\n",
       "      <td>5</td>\n",
       "      <td>5</td>\n",
       "      <td>0</td>\n",
       "      <td>12</td>\n",
       "      <td>2.0</td>\n",
       "      <td>5.0</td>\n",
       "      <td>0.0</td>\n",
       "      <td>8.0</td>\n",
       "      <td>9.0</td>\n",
       "      <td>5.0</td>\n",
       "      <td>...</td>\n",
       "      <td>0.0</td>\n",
       "      <td>12.0</td>\n",
       "      <td>2.0</td>\n",
       "      <td>5.0</td>\n",
       "      <td>0.0</td>\n",
       "      <td>8.0</td>\n",
       "      <td>0.0</td>\n",
       "      <td>0.0</td>\n",
       "      <td>1.0</td>\n",
       "      <td>8.0</td>\n",
       "    </tr>\n",
       "    <tr>\n",
       "      <th>9</th>\n",
       "      <td>11</td>\n",
       "      <td>4</td>\n",
       "      <td>0</td>\n",
       "      <td>4</td>\n",
       "      <td>5.0</td>\n",
       "      <td>5.0</td>\n",
       "      <td>0.0</td>\n",
       "      <td>12.0</td>\n",
       "      <td>2.0</td>\n",
       "      <td>5.0</td>\n",
       "      <td>...</td>\n",
       "      <td>0.0</td>\n",
       "      <td>4.0</td>\n",
       "      <td>9.0</td>\n",
       "      <td>5.0</td>\n",
       "      <td>0.0</td>\n",
       "      <td>12.0</td>\n",
       "      <td>2.0</td>\n",
       "      <td>5.0</td>\n",
       "      <td>0.0</td>\n",
       "      <td>8.0</td>\n",
       "    </tr>\n",
       "    <tr>\n",
       "      <th>10</th>\n",
       "      <td>4</td>\n",
       "      <td>5</td>\n",
       "      <td>0</td>\n",
       "      <td>8</td>\n",
       "      <td>11.0</td>\n",
       "      <td>4.0</td>\n",
       "      <td>0.0</td>\n",
       "      <td>4.0</td>\n",
       "      <td>5.0</td>\n",
       "      <td>5.0</td>\n",
       "      <td>...</td>\n",
       "      <td>0.0</td>\n",
       "      <td>16.0</td>\n",
       "      <td>7.0</td>\n",
       "      <td>5.0</td>\n",
       "      <td>0.0</td>\n",
       "      <td>4.0</td>\n",
       "      <td>9.0</td>\n",
       "      <td>5.0</td>\n",
       "      <td>0.0</td>\n",
       "      <td>12.0</td>\n",
       "    </tr>\n",
       "    <tr>\n",
       "      <th>11</th>\n",
       "      <td>9</td>\n",
       "      <td>4</td>\n",
       "      <td>0</td>\n",
       "      <td>4</td>\n",
       "      <td>4.0</td>\n",
       "      <td>5.0</td>\n",
       "      <td>0.0</td>\n",
       "      <td>8.0</td>\n",
       "      <td>11.0</td>\n",
       "      <td>4.0</td>\n",
       "      <td>...</td>\n",
       "      <td>0.0</td>\n",
       "      <td>16.0</td>\n",
       "      <td>5.0</td>\n",
       "      <td>5.0</td>\n",
       "      <td>0.0</td>\n",
       "      <td>16.0</td>\n",
       "      <td>7.0</td>\n",
       "      <td>5.0</td>\n",
       "      <td>0.0</td>\n",
       "      <td>4.0</td>\n",
       "    </tr>\n",
       "    <tr>\n",
       "      <th>12</th>\n",
       "      <td>4</td>\n",
       "      <td>5</td>\n",
       "      <td>0</td>\n",
       "      <td>4</td>\n",
       "      <td>9.0</td>\n",
       "      <td>4.0</td>\n",
       "      <td>0.0</td>\n",
       "      <td>4.0</td>\n",
       "      <td>4.0</td>\n",
       "      <td>5.0</td>\n",
       "      <td>...</td>\n",
       "      <td>0.0</td>\n",
       "      <td>16.0</td>\n",
       "      <td>7.0</td>\n",
       "      <td>5.0</td>\n",
       "      <td>0.0</td>\n",
       "      <td>16.0</td>\n",
       "      <td>5.0</td>\n",
       "      <td>5.0</td>\n",
       "      <td>0.0</td>\n",
       "      <td>16.0</td>\n",
       "    </tr>\n",
       "    <tr>\n",
       "      <th>13</th>\n",
       "      <td>9</td>\n",
       "      <td>5</td>\n",
       "      <td>0</td>\n",
       "      <td>4</td>\n",
       "      <td>4.0</td>\n",
       "      <td>5.0</td>\n",
       "      <td>0.0</td>\n",
       "      <td>4.0</td>\n",
       "      <td>9.0</td>\n",
       "      <td>4.0</td>\n",
       "      <td>...</td>\n",
       "      <td>0.0</td>\n",
       "      <td>8.0</td>\n",
       "      <td>9.0</td>\n",
       "      <td>5.0</td>\n",
       "      <td>0.0</td>\n",
       "      <td>16.0</td>\n",
       "      <td>7.0</td>\n",
       "      <td>5.0</td>\n",
       "      <td>0.0</td>\n",
       "      <td>16.0</td>\n",
       "    </tr>\n",
       "    <tr>\n",
       "      <th>14</th>\n",
       "      <td>7</td>\n",
       "      <td>5</td>\n",
       "      <td>0</td>\n",
       "      <td>4</td>\n",
       "      <td>9.0</td>\n",
       "      <td>5.0</td>\n",
       "      <td>0.0</td>\n",
       "      <td>4.0</td>\n",
       "      <td>4.0</td>\n",
       "      <td>5.0</td>\n",
       "      <td>...</td>\n",
       "      <td>0.0</td>\n",
       "      <td>12.0</td>\n",
       "      <td>2.0</td>\n",
       "      <td>5.0</td>\n",
       "      <td>0.0</td>\n",
       "      <td>8.0</td>\n",
       "      <td>9.0</td>\n",
       "      <td>5.0</td>\n",
       "      <td>0.0</td>\n",
       "      <td>16.0</td>\n",
       "    </tr>\n",
       "    <tr>\n",
       "      <th>15</th>\n",
       "      <td>5</td>\n",
       "      <td>5</td>\n",
       "      <td>0</td>\n",
       "      <td>4</td>\n",
       "      <td>7.0</td>\n",
       "      <td>5.0</td>\n",
       "      <td>0.0</td>\n",
       "      <td>4.0</td>\n",
       "      <td>9.0</td>\n",
       "      <td>5.0</td>\n",
       "      <td>...</td>\n",
       "      <td>0.0</td>\n",
       "      <td>4.0</td>\n",
       "      <td>5.0</td>\n",
       "      <td>5.0</td>\n",
       "      <td>0.0</td>\n",
       "      <td>12.0</td>\n",
       "      <td>2.0</td>\n",
       "      <td>5.0</td>\n",
       "      <td>0.0</td>\n",
       "      <td>8.0</td>\n",
       "    </tr>\n",
       "    <tr>\n",
       "      <th>16</th>\n",
       "      <td>2</td>\n",
       "      <td>5</td>\n",
       "      <td>0</td>\n",
       "      <td>4</td>\n",
       "      <td>5.0</td>\n",
       "      <td>5.0</td>\n",
       "      <td>0.0</td>\n",
       "      <td>4.0</td>\n",
       "      <td>7.0</td>\n",
       "      <td>5.0</td>\n",
       "      <td>...</td>\n",
       "      <td>0.0</td>\n",
       "      <td>8.0</td>\n",
       "      <td>11.0</td>\n",
       "      <td>4.0</td>\n",
       "      <td>0.0</td>\n",
       "      <td>4.0</td>\n",
       "      <td>5.0</td>\n",
       "      <td>5.0</td>\n",
       "      <td>0.0</td>\n",
       "      <td>12.0</td>\n",
       "    </tr>\n",
       "    <tr>\n",
       "      <th>17</th>\n",
       "      <td>10</td>\n",
       "      <td>5</td>\n",
       "      <td>0</td>\n",
       "      <td>4</td>\n",
       "      <td>2.0</td>\n",
       "      <td>5.0</td>\n",
       "      <td>0.0</td>\n",
       "      <td>4.0</td>\n",
       "      <td>5.0</td>\n",
       "      <td>5.0</td>\n",
       "      <td>...</td>\n",
       "      <td>0.0</td>\n",
       "      <td>4.0</td>\n",
       "      <td>4.0</td>\n",
       "      <td>5.0</td>\n",
       "      <td>0.0</td>\n",
       "      <td>8.0</td>\n",
       "      <td>11.0</td>\n",
       "      <td>4.0</td>\n",
       "      <td>0.0</td>\n",
       "      <td>4.0</td>\n",
       "    </tr>\n",
       "  </tbody>\n",
       "</table>\n",
       "<p>10 rows × 36 columns</p>\n",
       "</div>"
      ],
      "text/plain": [
       "    note  octave  rest  duration  note_lag1  octave_lag1  rest_lag1  \\\n",
       "8      5       5     0        12        2.0          5.0        0.0   \n",
       "9     11       4     0         4        5.0          5.0        0.0   \n",
       "10     4       5     0         8       11.0          4.0        0.0   \n",
       "11     9       4     0         4        4.0          5.0        0.0   \n",
       "12     4       5     0         4        9.0          4.0        0.0   \n",
       "13     9       5     0         4        4.0          5.0        0.0   \n",
       "14     7       5     0         4        9.0          5.0        0.0   \n",
       "15     5       5     0         4        7.0          5.0        0.0   \n",
       "16     2       5     0         4        5.0          5.0        0.0   \n",
       "17    10       5     0         4        2.0          5.0        0.0   \n",
       "\n",
       "    duration_lag1  note_lag2  octave_lag2  ...  rest_lag6  duration_lag6  \\\n",
       "8             8.0        9.0          5.0  ...        0.0           12.0   \n",
       "9            12.0        2.0          5.0  ...        0.0            4.0   \n",
       "10            4.0        5.0          5.0  ...        0.0           16.0   \n",
       "11            8.0       11.0          4.0  ...        0.0           16.0   \n",
       "12            4.0        4.0          5.0  ...        0.0           16.0   \n",
       "13            4.0        9.0          4.0  ...        0.0            8.0   \n",
       "14            4.0        4.0          5.0  ...        0.0           12.0   \n",
       "15            4.0        9.0          5.0  ...        0.0            4.0   \n",
       "16            4.0        7.0          5.0  ...        0.0            8.0   \n",
       "17            4.0        5.0          5.0  ...        0.0            4.0   \n",
       "\n",
       "    note_lag7  octave_lag7  rest_lag7  duration_lag7  note_lag8  octave_lag8  \\\n",
       "8         2.0          5.0        0.0            8.0        0.0          0.0   \n",
       "9         9.0          5.0        0.0           12.0        2.0          5.0   \n",
       "10        7.0          5.0        0.0            4.0        9.0          5.0   \n",
       "11        5.0          5.0        0.0           16.0        7.0          5.0   \n",
       "12        7.0          5.0        0.0           16.0        5.0          5.0   \n",
       "13        9.0          5.0        0.0           16.0        7.0          5.0   \n",
       "14        2.0          5.0        0.0            8.0        9.0          5.0   \n",
       "15        5.0          5.0        0.0           12.0        2.0          5.0   \n",
       "16       11.0          4.0        0.0            4.0        5.0          5.0   \n",
       "17        4.0          5.0        0.0            8.0       11.0          4.0   \n",
       "\n",
       "    rest_lag8  duration_lag8  \n",
       "8         1.0            8.0  \n",
       "9         0.0            8.0  \n",
       "10        0.0           12.0  \n",
       "11        0.0            4.0  \n",
       "12        0.0           16.0  \n",
       "13        0.0           16.0  \n",
       "14        0.0           16.0  \n",
       "15        0.0            8.0  \n",
       "16        0.0           12.0  \n",
       "17        0.0            4.0  \n",
       "\n",
       "[10 rows x 36 columns]"
      ]
     },
     "execution_count": 6,
     "metadata": {},
     "output_type": "execute_result"
    }
   ],
   "source": [
    "# from `input.ipynb`\n",
    "\n",
    "from dataclasses import dataclass\n",
    "\n",
    "import numpy as np\n",
    "import pandas as pd\n",
    "\n",
    "# Helper class\n",
    "@dataclass\n",
    "class Note:\n",
    "    note: int = 0       # The pitch\n",
    "    octave: int = 0     # The (Midi) octave\n",
    "    rest: int = 0       # Whether the note is a rest\n",
    "    duration: int = 0   # The duration of the note (in 1/16 second intervals)\n",
    "\n",
    "# Options for creating the dataframe. VOICE = which voice to pick, LAG = how many periods to lag for.\n",
    "VOICE = 3\n",
    "LAG = 8\n",
    "\n",
    "# Import the csv\n",
    "piano_input = pd.read_csv('F.txt', sep='\\t', header=None)\n",
    "\n",
    "# Transform piano key pitch (A0 = 1) to Midi pitch (A0 = 21)\n",
    "# Different sources say different numbers for A0. Might be 9 or 21. :| 9 seems to be A(-1) generally though.\n",
    "# If we map octave -1 to index 0 (which is the easiest probably), then we need A0 = 21.\n",
    "midi_input = piano_input.where(piano_input == 0, piano_input + 20)\n",
    "# Take the voice we are working on\n",
    "voice_input = midi_input.iloc[:, VOICE]\n",
    "\n",
    "# Create an output dataframe\n",
    "notes = []\n",
    "# Process the first note\n",
    "cur = Note(voice_input[0] % 12, voice_input[0] // 12, 1 if voice_input[0] == 0 else 0, 1)\n",
    "\n",
    "# Process the rest of the notes\n",
    "for entry in voice_input[1:]:\n",
    "    note = entry % 12\n",
    "    octv = entry // 12\n",
    "    if cur.note == note and cur.octave == octv:\n",
    "        cur.duration += 1\n",
    "    else:\n",
    "        notes.append(cur)\n",
    "        cur = Note(note, octv, 1 if note == 0 else 0, 1)\n",
    "\n",
    "# Pandas can automatically convert a list of dataclass objects to dataframes!\n",
    "notes_df = pd.DataFrame(notes)\n",
    "\n",
    "# Create a lagged input dataframe\n",
    "notes_lagged_df = notes_df.copy()\n",
    "\n",
    "for lag in range(1, LAG + 1):\n",
    "    lagged = notes_df.shift(lag)\n",
    "    lagged.columns = [f'{col_name}_lag{lag}' for col_name in notes_df.columns]\n",
    "    notes_lagged_df = pd.concat((notes_lagged_df, lagged), axis=1)\n",
    "\n",
    "# Drop rows containing NA (i.e. the first LAG rows basically)\n",
    "notes_lagged_df = notes_lagged_df.dropna()\n",
    "\n",
    "# Show first 10 notes\n",
    "notes_lagged_df.head(10)"
   ]
  },
  {
   "cell_type": "markdown",
   "id": "1bceb4d8-5956-402e-bbb1-d69d4ab6cf56",
   "metadata": {},
   "source": [
    "# Models"
   ]
  },
  {
   "cell_type": "code",
   "execution_count": 36,
   "id": "2f40ddd7-b28c-4539-b12e-29730c9baac2",
   "metadata": {},
   "outputs": [
    {
     "name": "stdout",
     "output_type": "stream",
     "text": [
      "['note', 'rest', 'note_lag1', 'rest_lag1', 'note_lag2', 'rest_lag2', 'note_lag3', 'rest_lag3', 'note_lag4', 'rest_lag4', 'note_lag5', 'rest_lag5', 'note_lag6', 'rest_lag6', 'note_lag7', 'rest_lag7', 'note_lag8', 'rest_lag8']\n",
      "['octave', 'duration', 'octave_lag1', 'duration_lag1', 'octave_lag2', 'duration_lag2', 'octave_lag3', 'duration_lag3', 'octave_lag4', 'duration_lag4', 'octave_lag5', 'duration_lag5', 'octave_lag6', 'duration_lag6', 'octave_lag7', 'duration_lag7', 'octave_lag8', 'duration_lag8']\n"
     ]
    }
   ],
   "source": [
    "dfV1 = notes_lagged_df\n",
    "# columns as categories or contineous variables\n",
    "cate_cols = [i for i in dfV1.columns.values if (re.search('note', i) or re.search('rest', i))]\n",
    "cont_cols = [i for i in dfV1.columns.values if (re.search('octave', i) or re.search('duration', i))]\n",
    "print(cate_cols)\n",
    "print(cont_cols)"
   ]
  },
  {
   "cell_type": "markdown",
   "id": "b6473eeb-e92e-4f98-930d-497ea1e3adf2",
   "metadata": {},
   "source": [
    "## model for `rest`"
   ]
  },
  {
   "cell_type": "code",
   "execution_count": 78,
   "id": "70175796-5183-4407-b55e-325bbc2a76bd",
   "metadata": {},
   "outputs": [
    {
     "data": {
      "text/plain": [
       "100.0"
      ]
     },
     "execution_count": 78,
     "metadata": {},
     "output_type": "execute_result"
    }
   ],
   "source": [
    "rcv_pipe_rest = make_pipeline(\n",
    "    make_column_transformer(\n",
    "        (OneHotEncoder(), [i for i in cate_cols if (i != 'rest' and i != 'note')])\n",
    "    ),\n",
    "    RidgeClassifierCV(alphas = [0.001, 0.01, 0.1, 1., 10., 100., 1000.], cv = 10)\n",
    ")\n",
    "rcv_pipe_rest.fit(X = dfV1[dfV1.columns.drop(['rest', 'note', 'octave', 'duration'])], y = dfV1['rest'])\n",
    "rcv_pipe_rest['ridgeclassifiercv'].alpha_"
   ]
  },
  {
   "cell_type": "code",
   "execution_count": 80,
   "id": "5997d9dd-71aa-42bb-84f9-262253071b14",
   "metadata": {},
   "outputs": [
    {
     "data": {
      "text/plain": [
       "<matplotlib.collections.PathCollection at 0x217134a5250>"
      ]
     },
     "execution_count": 80,
     "metadata": {},
     "output_type": "execute_result"
    },
    {
     "data": {
      "image/png": "[encoded data removed]",
      "text/plain": [
       "<Figure size 432x288 with 1 Axes>"
      ]
     },
     "metadata": {
      "needs_background": "light"
     },
     "output_type": "display_data"
    }
   ],
   "source": [
    "rcv_pipe_rest_pred = rcv_pipe_rest.predict(X = dfV1[dfV1.columns.drop(['note', 'octave', 'duration'])])\n",
    "plt.scatter(dfV1.rest, rcv_pipe_rest_pred, alpha = 0.01)\n",
    "# it never predicts a rest, which is fine?"
   ]
  },
  {
   "cell_type": "markdown",
   "id": "b04e1332-47c6-48e6-bd99-bcdcc9fc29f0",
   "metadata": {},
   "source": [
    "## model for `octave`"
   ]
  },
  {
   "cell_type": "code",
   "execution_count": 81,
   "id": "167c047c-fa0c-453d-ab26-8435b88bb2c6",
   "metadata": {},
   "outputs": [
    {
     "data": {
      "text/plain": [
       "100.0"
      ]
     },
     "execution_count": 81,
     "metadata": {},
     "output_type": "execute_result"
    }
   ],
   "source": [
    "rcv_pipe_octave = make_pipeline(\n",
    "    make_column_transformer(\n",
    "        (OneHotEncoder(), [i for i in cate_cols if (i != 'note')])\n",
    "    ),\n",
    "    # here we need to transform the outcome to the closest integer.\n",
    "    TransformedTargetRegressor(\n",
    "        regressor=RidgeCV(alphas = [0.001, 0.01, 0.1, 1., 10., 100., 1000.], cv = 10),\n",
    "        func=lambda x : x,\n",
    "        inverse_func=lambda x: np.round(x)\n",
    "    )\n",
    ")\n",
    "## here we need to filter out rests\n",
    "rcv_pipe_octave.fit(X = dfV1[dfV1.rest != 1][dfV1.columns.drop(['note', 'octave', 'duration'])], \n",
    "                    y = dfV1[dfV1.rest != 1]['octave'])\n",
    "rcv_pipe_octave['transformedtargetregressor'].regressor_.alpha_"
   ]
  },
  {
   "cell_type": "code",
   "execution_count": 82,
   "id": "9bec012c-454c-4f8c-a704-39550e2744db",
   "metadata": {},
   "outputs": [
    {
     "data": {
      "text/plain": [
       "<matplotlib.collections.PathCollection at 0x21711fdd1c0>"
      ]
     },
     "execution_count": 82,
     "metadata": {},
     "output_type": "execute_result"
    },
    {
     "data": {
      "image/png": "[encoded data removed]",
      "text/plain": [
       "<Figure size 432x288 with 1 Axes>"
      ]
     },
     "metadata": {
      "needs_background": "light"
     },
     "output_type": "display_data"
    }
   ],
   "source": [
    "rcv_pipe_octave_pred = rcv_pipe_octave.predict(X = dfV1[dfV1.rest != 1][dfV1.columns.drop(['note', 'octave', 'duration'])])\n",
    "plt.scatter(dfV1[dfV1.rest != 1]['octave'], rcv_pipe_octave_pred, alpha = 0.01)\n",
    "\n",
    "#!!! maybe we do need an relative octave; or, we make a model for each voice"
   ]
  },
  {
   "cell_type": "markdown",
   "id": "2655b31f-c8d0-4895-9b33-d7e2b07f42d0",
   "metadata": {},
   "source": [
    "## model for `note`"
   ]
  },
  {
   "cell_type": "code",
   "execution_count": 92,
   "id": "19451620-1650-4357-9755-4d4b872162e1",
   "metadata": {},
   "outputs": [
    {
     "name": "stderr",
     "output_type": "stream",
     "text": [
      "C:\\Users\\jingm\\.conda\\envs\\ml\\lib\\site-packages\\sklearn\\model_selection\\_split.py:676: UserWarning: The least populated class in y has only 9 members, which is less than n_splits=10.\n",
      "  warnings.warn(\n"
     ]
    },
    {
     "data": {
      "text/plain": [
       "1.0"
      ]
     },
     "execution_count": 92,
     "metadata": {},
     "output_type": "execute_result"
    }
   ],
   "source": [
    "rcv_pipe_note = make_pipeline(\n",
    "    make_column_transformer(\n",
    "        (OneHotEncoder(), [i for i in cate_cols if i != 'note'])\n",
    "    ),\n",
    "    RidgeClassifierCV(alphas = [0.001, 0.01, 0.1, 1., 10., 100., 1000.], cv = 10)\n",
    ")\n",
    "## here we need to filter out rests\n",
    "rcv_pipe_note.fit(X = dfV1[dfV1.rest != 1][dfV1.columns.drop(['note', 'duration'])], \n",
    "                  y = dfV1[dfV1.rest != 1]['note'])\n",
    "rcv_pipe_note['ridgeclassifiercv'].alpha_"
   ]
  },
  {
   "cell_type": "code",
   "execution_count": 93,
   "id": "0fc6fded-7c5f-4e3a-a28f-731e8c6bf5f8",
   "metadata": {},
   "outputs": [
    {
     "data": {
      "text/plain": [
       "<matplotlib.collections.PathCollection at 0x217135ebc70>"
      ]
     },
     "execution_count": 93,
     "metadata": {},
     "output_type": "execute_result"
    },
    {
     "data": {
      "image/png": "[encoded data removed]",
      "text/plain": [
       "<Figure size 432x288 with 1 Axes>"
      ]
     },
     "metadata": {
      "needs_background": "light"
     },
     "output_type": "display_data"
    }
   ],
   "source": [
    "rcv_pipe_note_pred = rcv_pipe_note.predict(X = dfV1[dfV1.rest != 1][dfV1.columns.drop(['note', 'duration'])])\n",
    "plt.scatter(dfV1[dfV1.rest != 1]['note'], rcv_pipe_note_pred, alpha = 0.01)"
   ]
  },
  {
   "cell_type": "markdown",
   "id": "ca908c88-83f8-414f-b31f-d5b1415d3b41",
   "metadata": {},
   "source": [
    "## model for `duration`"
   ]
  },
  {
   "cell_type": "code",
   "execution_count": 98,
   "id": "ab802a22-30fd-497f-a6f0-e76e84a0e643",
   "metadata": {},
   "outputs": [
    {
     "data": {
      "text/plain": [
       "10.0"
      ]
     },
     "execution_count": 98,
     "metadata": {},
     "output_type": "execute_result"
    }
   ],
   "source": [
    "rcv_pipe_duration = make_pipeline(\n",
    "    make_column_transformer(\n",
    "        (OneHotEncoder(), cate_cols)\n",
    "    ),\n",
    "    # here we need to transform the outcome to the closest integer.\n",
    "    TransformedTargetRegressor(\n",
    "        regressor=RidgeCV(alphas = [0.001, 0.01, 0.1, 1., 10.], cv = 10),\n",
    "        func=lambda x : x,\n",
    "        inverse_func=lambda x: np.round(x)\n",
    "    )\n",
    ")\n",
    "## here we need to filter out rests\n",
    "rcv_pipe_duration.fit(X = dfV1[dfV1.rest != 1][dfV1.columns.drop(['duration'])], \n",
    "                    y = dfV1[dfV1.rest != 1]['duration'])\n",
    "rcv_pipe_duration['transformedtargetregressor'].regressor_.alpha_"
   ]
  },
  {
   "cell_type": "code",
   "execution_count": 99,
   "id": "8845c2a6-0a84-4e19-a496-5a0724d99155",
   "metadata": {},
   "outputs": [
    {
     "data": {
      "text/plain": [
       "<matplotlib.collections.PathCollection at 0x217122008e0>"
      ]
     },
     "execution_count": 99,
     "metadata": {},
     "output_type": "execute_result"
    },
    {
     "data": {
      "image/png": "[encoded data removed]",
      "text/plain": [
       "<Figure size 432x288 with 1 Axes>"
      ]
     },
     "metadata": {
      "needs_background": "light"
     },
     "output_type": "display_data"
    }
   ],
   "source": [
    "rcv_pipe_duration_pred = rcv_pipe_duration.predict(X = dfV1[dfV1.rest != 1][dfV1.columns.drop(['duration'])])\n",
    "plt.scatter(dfV1[dfV1.rest != 1]['duration'], rcv_pipe_duration_pred, alpha = 0.01)\n",
    "# this doesn't look so good"
   ]
  }
 ],
 "metadata": {
  "kernelspec": {
   "display_name": "ml",
   "language": "python",
   "name": "ml"
  },
  "language_info": {
   "codemirror_mode": {
    "name": "ipython",
    "version": 3
   },
   "file_extension": ".py",
   "mimetype": "text/x-python",
   "name": "python",
   "nbconvert_exporter": "python",
   "pygments_lexer": "ipython3",
   "version": "3.9.7"
  }
 },
 "nbformat": 4,
 "nbformat_minor": 5
}
