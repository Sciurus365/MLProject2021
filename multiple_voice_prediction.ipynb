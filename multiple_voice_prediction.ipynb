{
 "cells": [
  {
   "cell_type": "code",
   "execution_count": 1,
   "metadata": {},
   "outputs": [],
   "source": [
    "VOICE = 3\n",
    "LAG = 1024\n",
    "NUM_PREDICT = 133\n",
    "INCLUDE_BEGINNING = True"
   ]
  },
  {
   "cell_type": "code",
   "execution_count": 2,
   "metadata": {},
   "outputs": [],
   "source": [
    "import pandas as pd\n",
    "import numpy as np\n",
    "from sklearn.multioutput import RegressorChain\n",
    "from sklearn.linear_model import RidgeClassifierCV\n",
    "import midiutil\n",
    "\n",
    "def predict_feature(input_df):\n",
    "    l, _ = input_df.shape\n",
    "    # Lagged input\n",
    "    X = input_df.to_numpy()\n",
    "    for lag in range(1, LAG + 1):\n",
    "        next_lag = input_df[lag:]\n",
    "        X = np.delete(X, l - lag, axis=0)\n",
    "        X = np.append(X, next_lag, axis=1)\n",
    "\n",
    "    # Remove y values from x\n",
    "    np.delete(X, 0, axis=1)\n",
    "\n",
    "    # Multi-output\n",
    "    Y = input_df.to_numpy()\n",
    "\n",
    "    # Use sklearn's regressorchain to fit 4 correlated regressors\n",
    "    chain = RegressorChain(RidgeClassifierCV(alphas=[1e-5, 1e-3, 1e-2, 1e-1, 1, 10, 100, 1000])).fit(X, Y[LAG:])\n",
    "    print(f\"Score: {chain.score(X, Y[LAG:])};\")\n",
    "    print(\"Alphas used:\", [est.alpha_ for est in chain.estimators_])\n",
    "    # Predict some notes\n",
    "    for _ in range(NUM_PREDICT):\n",
    "        next_notes = chain.predict(X[-lag:])\n",
    "        next_notes = next_notes.reshape(lag, 4)[-1]\n",
    "        next_row = np.append(next_notes, X[-1, :-4]).reshape(1, -1)\n",
    "        X = np.append(X, next_row, axis=0)\n",
    "\n",
    "    predicted_notes = pd.DataFrame(np.round(X[-NUM_PREDICT:, 0:4]), columns=['v1', 'v2', 'v3', 'v4'])\n",
    "    return predicted_notes\n",
    "\n",
    "# Import the csv\n",
    "piano_input = pd.read_csv('F.txt', sep='\\t', header=None, names=['v1', 'v2', 'v3', 'v4'])\n",
    "# Transform to midi values\n",
    "midi_input = piano_input.where(piano_input == 0, piano_input + 8)"
   ]
  },
  {
   "cell_type": "code",
   "execution_count": 3,
   "metadata": {},
   "outputs": [
    {
     "name": "stdout",
     "output_type": "stream",
     "text": [
      "Score: 1.0;\n",
      "Alphas used: [1000.0, 1000.0, 1000.0, 1000.0]\n",
      "Score: 1.0;\n",
      "Alphas used: [100.0, 100.0, 100.0, 100.0]\n",
      "Score: 1.0;\n",
      "Alphas used: [1e-05, 1e-05, 1e-05, 1e-05]\n"
     ]
    }
   ],
   "source": [
    "X_pitches = piano_input % 12\n",
    "X_octaves = piano_input // 12\n",
    "X_rests = (piano_input == 0).astype(int)\n",
    "\n",
    "pred_y_pitches = predict_feature(X_pitches)\n",
    "pred_y_octaves = predict_feature(X_octaves)\n",
    "pred_y_rests   = predict_feature(X_rests)"
   ]
  },
  {
   "cell_type": "code",
   "execution_count": 32,
   "metadata": {},
   "outputs": [],
   "source": [
    "from dataclasses import dataclass\n",
    "\n",
    "note_len = 0.25\n",
    "\n",
    "if INCLUDE_BEGINNING:\n",
    "    y_pitches = (piano_input % 12).append(pred_y_pitches, ignore_index=True)\n",
    "    y_octaves = (piano_input // 12).append(pred_y_octaves, ignore_index=True)\n",
    "    y_rests   = ((piano_input == 0).astype(int)).append(pred_y_rests, ignore_index=True)\n",
    "\n",
    "\n",
    "y_pitches = y_pitches.to_numpy()\n",
    "y_octaves = y_octaves.to_numpy()\n",
    "y_rests   = y_rests.to_numpy()\n",
    "\n",
    "@dataclass\n",
    "class MidiNote:\n",
    "    note: int\n",
    "    time: float\n",
    "    dura: float\n",
    "\n",
    "# Generate midi file\n",
    "midi = midiutil.MIDIFile(4)\n",
    "midi.addTempo(0, 0, 100)\n",
    "\n",
    "cur = [MidiNote((o * 12 + p) * (r * -1 + 1), 0, note_len) for p, o, r in zip(y_pitches[0], y_octaves[0], y_rests[0])]\n",
    "\n",
    "for time in range(1, len(y_pitches)):\n",
    "    for track in range(4):\n",
    "        if time >= len(piano_input) - 1:\n",
    "            midi.addText(track, time * note_len, \"*\")\n",
    "        midi_note = (y_octaves[time, track] * 12 + y_pitches[time, track]) * (y_rests[time, track] * -1 + 1)\n",
    "        if cur[track].note == midi_note:\n",
    "            cur[track].dura += note_len\n",
    "        else:\n",
    "            if cur[track].note != 0:\n",
    "                midi.addNote(track, 0, int(cur[track].note), cur[track].time, cur[track].dura, 95)\n",
    "            cur[track] = MidiNote(midi_note, time * note_len, note_len)\n",
    "\n",
    "midi.addNote(track, 0, int(cur[track].note), cur[track].time, cur[track].dura, 95)\n",
    "\n",
    "with open('simplified_generated_with_beginning.mid', 'wb') as output:\n",
    "    midi.writeFile(output)\n"
   ]
  }
 ],
 "metadata": {
  "interpreter": {
   "hash": "0a13005edfa8ca07063ace34da04afb68eac4c4144068f376a6459c70313c728"
  },
  "kernelspec": {
   "display_name": "Python 3.9.4 64-bit",
   "language": "python",
   "name": "python3"
  },
  "language_info": {
   "codemirror_mode": {
    "name": "ipython",
    "version": 3
   },
   "file_extension": ".py",
   "mimetype": "text/x-python",
   "name": "python",
   "nbconvert_exporter": "python",
   "pygments_lexer": "ipython3",
   "version": "3.9.4"
  },
  "orig_nbformat": 4
 },
 "nbformat": 4,
 "nbformat_minor": 2
}
